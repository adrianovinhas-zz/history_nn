{
 "cells": [
  {
   "cell_type": "markdown",
   "metadata": {},
   "source": [
    "## Building the perceptron in tensorflow"
   ]
  },
  {
   "cell_type": "code",
   "execution_count": 1,
   "metadata": {},
   "outputs": [],
   "source": [
    "import sklearn.datasets as datasets\n",
    "import tensorflow as tf\n",
    "import numpy as np"
   ]
  },
  {
   "cell_type": "code",
   "execution_count": 2,
   "metadata": {},
   "outputs": [],
   "source": [
    "input_neurons = 2\n",
    "output_neurons = 1\n",
    "#tf.enable_eager_execution()"
   ]
  },
  {
   "cell_type": "code",
   "execution_count": 4,
   "metadata": {},
   "outputs": [
    {
     "name": "stdout",
     "output_type": "stream",
     "text": [
      "(4, 2)\n",
      "(4,)\n",
      "<tf.Variable 'Variable:0' shape=(3, 1) dtype=float32_ref>\n"
     ]
    },
    {
     "ename": "ValueError",
     "evalue": "Cannot evaluate tensor using `eval()`: No default session is registered. Use `with sess.as_default()` or pass an explicit session to `eval(session=sess)`",
     "output_type": "error",
     "traceback": [
      "\u001b[0;31m---------------------------------------------------------------------------\u001b[0m",
      "\u001b[0;31mValueError\u001b[0m                                Traceback (most recent call last)",
      "\u001b[0;32m<ipython-input-4-c84946b9b84b>\u001b[0m in \u001b[0;36m<module>\u001b[0;34m()\u001b[0m\n\u001b[1;32m     23\u001b[0m \u001b[0msess\u001b[0m \u001b[0;34m=\u001b[0m \u001b[0mtf\u001b[0m\u001b[0;34m.\u001b[0m\u001b[0mSession\u001b[0m\u001b[0;34m(\u001b[0m\u001b[0;34m)\u001b[0m\u001b[0;34m\u001b[0m\u001b[0m\n\u001b[1;32m     24\u001b[0m \u001b[0mw\u001b[0m \u001b[0;34m=\u001b[0m \u001b[0msess\u001b[0m\u001b[0;34m.\u001b[0m\u001b[0mrun\u001b[0m\u001b[0;34m(\u001b[0m\u001b[0mtf\u001b[0m\u001b[0;34m.\u001b[0m\u001b[0mglobal_variables_initializer\u001b[0m\u001b[0;34m(\u001b[0m\u001b[0;34m)\u001b[0m\u001b[0;34m)\u001b[0m\u001b[0;34m\u001b[0m\u001b[0m\n\u001b[0;32m---> 25\u001b[0;31m \u001b[0mprint\u001b[0m\u001b[0;34m(\u001b[0m\u001b[0mW\u001b[0m\u001b[0;34m.\u001b[0m\u001b[0meval\u001b[0m\u001b[0;34m(\u001b[0m\u001b[0;34m)\u001b[0m\u001b[0;34m)\u001b[0m\u001b[0;34m\u001b[0m\u001b[0m\n\u001b[0m",
      "\u001b[0;32m/usr/local/Cellar/python3/3.6.2/Frameworks/Python.framework/Versions/3.6/lib/python3.6/site-packages/tensorflow/python/ops/variables.py\u001b[0m in \u001b[0;36meval\u001b[0;34m(self, session)\u001b[0m\n\u001b[1;32m   1424\u001b[0m       \u001b[0mA\u001b[0m \u001b[0mnumpy\u001b[0m\u001b[0;31m \u001b[0m\u001b[0;31m`\u001b[0m\u001b[0mndarray\u001b[0m\u001b[0;31m`\u001b[0m \u001b[0;32mwith\u001b[0m \u001b[0ma\u001b[0m \u001b[0mcopy\u001b[0m \u001b[0mof\u001b[0m \u001b[0mthe\u001b[0m \u001b[0mvalue\u001b[0m \u001b[0mof\u001b[0m \u001b[0mthis\u001b[0m \u001b[0mvariable\u001b[0m\u001b[0;34m.\u001b[0m\u001b[0;34m\u001b[0m\u001b[0m\n\u001b[1;32m   1425\u001b[0m     \"\"\"\n\u001b[0;32m-> 1426\u001b[0;31m     \u001b[0;32mreturn\u001b[0m \u001b[0mself\u001b[0m\u001b[0;34m.\u001b[0m\u001b[0m_variable\u001b[0m\u001b[0;34m.\u001b[0m\u001b[0meval\u001b[0m\u001b[0;34m(\u001b[0m\u001b[0msession\u001b[0m\u001b[0;34m=\u001b[0m\u001b[0msession\u001b[0m\u001b[0;34m)\u001b[0m\u001b[0;34m\u001b[0m\u001b[0m\n\u001b[0m\u001b[1;32m   1427\u001b[0m \u001b[0;34m\u001b[0m\u001b[0m\n\u001b[1;32m   1428\u001b[0m   \u001b[0;32mdef\u001b[0m \u001b[0minitialized_value\u001b[0m\u001b[0;34m(\u001b[0m\u001b[0mself\u001b[0m\u001b[0;34m)\u001b[0m\u001b[0;34m:\u001b[0m\u001b[0;34m\u001b[0m\u001b[0m\n",
      "\u001b[0;32m/usr/local/Cellar/python3/3.6.2/Frameworks/Python.framework/Versions/3.6/lib/python3.6/site-packages/tensorflow/python/framework/ops.py\u001b[0m in \u001b[0;36meval\u001b[0;34m(self, feed_dict, session)\u001b[0m\n\u001b[1;32m    709\u001b[0m \u001b[0;34m\u001b[0m\u001b[0m\n\u001b[1;32m    710\u001b[0m     \"\"\"\n\u001b[0;32m--> 711\u001b[0;31m     \u001b[0;32mreturn\u001b[0m \u001b[0m_eval_using_default_session\u001b[0m\u001b[0;34m(\u001b[0m\u001b[0mself\u001b[0m\u001b[0;34m,\u001b[0m \u001b[0mfeed_dict\u001b[0m\u001b[0;34m,\u001b[0m \u001b[0mself\u001b[0m\u001b[0;34m.\u001b[0m\u001b[0mgraph\u001b[0m\u001b[0;34m,\u001b[0m \u001b[0msession\u001b[0m\u001b[0;34m)\u001b[0m\u001b[0;34m\u001b[0m\u001b[0m\n\u001b[0m\u001b[1;32m    712\u001b[0m \u001b[0;34m\u001b[0m\u001b[0m\n\u001b[1;32m    713\u001b[0m \u001b[0;34m\u001b[0m\u001b[0m\n",
      "\u001b[0;32m/usr/local/Cellar/python3/3.6.2/Frameworks/Python.framework/Versions/3.6/lib/python3.6/site-packages/tensorflow/python/framework/ops.py\u001b[0m in \u001b[0;36m_eval_using_default_session\u001b[0;34m(tensors, feed_dict, graph, session)\u001b[0m\n\u001b[1;32m   5139\u001b[0m     \u001b[0msession\u001b[0m \u001b[0;34m=\u001b[0m \u001b[0mget_default_session\u001b[0m\u001b[0;34m(\u001b[0m\u001b[0;34m)\u001b[0m\u001b[0;34m\u001b[0m\u001b[0m\n\u001b[1;32m   5140\u001b[0m     \u001b[0;32mif\u001b[0m \u001b[0msession\u001b[0m \u001b[0;32mis\u001b[0m \u001b[0;32mNone\u001b[0m\u001b[0;34m:\u001b[0m\u001b[0;34m\u001b[0m\u001b[0m\n\u001b[0;32m-> 5141\u001b[0;31m       raise ValueError(\"Cannot evaluate tensor using `eval()`: No default \"\n\u001b[0m\u001b[1;32m   5142\u001b[0m                        \u001b[0;34m\"session is registered. Use `with \"\u001b[0m\u001b[0;34m\u001b[0m\u001b[0m\n\u001b[1;32m   5143\u001b[0m                        \u001b[0;34m\"sess.as_default()` or pass an explicit session to \"\u001b[0m\u001b[0;34m\u001b[0m\u001b[0m\n",
      "\u001b[0;31mValueError\u001b[0m: Cannot evaluate tensor using `eval()`: No default session is registered. Use `with sess.as_default()` or pass an explicit session to `eval(session=sess)`"
     ]
    }
   ],
   "source": [
    "dataset = np.array([[0, 0], [0, 1], [1, 0], [1, 1]])\n",
    "targets = np.array([0, 0, 0, 1])\n",
    "colors = ['black', 'black', 'black','red']\n",
    "\n",
    "print(dataset.shape)\n",
    "print(targets.shape)\n",
    "\n",
    "def binary_activation(x):\n",
    "    cond = tf.less(x, tf.zeros(tf.shape(x)))\n",
    "    out = tf.where(cond, tf.zeros(tf.shape(x)), tf.ones(tf.shape(x)))\n",
    "    return out\n",
    "\n",
    "#reset the computation graph\n",
    "tf.reset_default_graph()\n",
    "\n",
    "W = tf.Variable(tf.random_normal([input_neurons+1, output_neurons]))\n",
    "print(W)\n",
    "\n",
    "#W = tf.Print(W, [W])\n",
    "#z = tf.matmul([[1],[2],[3]], _W)\n",
    "#y = binary_activation(z)\n",
    "\n",
    "sess = tf.Session()\n",
    "w = sess.run(tf.global_variables_initializer())\n",
    "print(W.eval())"
   ]
  },
  {
   "cell_type": "code",
   "execution_count": null,
   "metadata": {},
   "outputs": [],
   "source": [
    "w, b = and_network.get_weights()\n",
    "print(\"weights: \", w)\n",
    "print(\"bias: \", b)\n",
    "print(\"accuracy: \", history.history['acc'][-1])\n",
    "print(and_network.get_weights())"
   ]
  },
  {
   "cell_type": "code",
   "execution_count": null,
   "metadata": {},
   "outputs": [],
   "source": [
    "plt.xlim(-1, 2)\n",
    "plt.ylim(-1, 2)\n",
    "plt.scatter(list(map(lambda x: x[0], dataset)),\n",
    "            list(map(lambda x: x[1], dataset)),\n",
    "            c=colors,\n",
    "            s=50)\n",
    "x_decision_hyperplane = list(range(-1,3))\n",
    "print(-(w[0]/w[1])*0 -(b/w[1]))\n",
    "y_decision_hyperplane = list(map(lambda x: (-(w[0]/w[1])*x -(b/w[1]))[0], x_decision_hyperplane))\n",
    "print(list(zip(x_decision_hyperplane, y_decision_hyperplane)))\n",
    "predicted = and_network.predict_classes(dataset)\n",
    "print(\"--------------\")\n",
    "print(\"Predictions: \")\n",
    "for ex, t, ac in zip(dataset, targets, predicted):\n",
    "    print(ex, t, ac, ex[0]*w[0]+ex[1]*w[0])\n",
    "\n",
    "plt.plot(x_decision_hyperplane, y_decision_hyperplane, '-.')\n",
    "plt.show()\n",
    "\n",
    "#[-0.3442232]\n",
    "#[(-1, 0.52184135), (0, -0.3442232), (1, -1.2102878), (2, -2.0763524)]\n",
    "#--------------\n",
    "#Predictions: \n",
    "#[0 0] 0 [0] [0.]\n",
    "#[0 1] 0 [1] [0.6737635]\n",
    "#[1 0] 0 [1] [0.6737635]\n",
    "#[1 1] 1 [1] [1.347527]"
   ]
  },
  {
   "cell_type": "markdown",
   "metadata": {},
   "source": [
    "# OR operand network"
   ]
  },
  {
   "cell_type": "code",
   "execution_count": null,
   "metadata": {},
   "outputs": [],
   "source": [
    "dataset = np.array([[0, 0], [0, 1], [1, 0], [1, 1]])\n",
    "targets = np.array([1, 1, 1, 0])\n",
    "\n",
    "print(dataset.shape)\n",
    "print(targets.shape)\n",
    "\n",
    "or_network = Sequential([\n",
    "    Dense(1, input_dim=2),\n",
    "    Activation('sigmoid')\n",
    "])\n",
    "\n",
    "or_network.compile(optimizer=SGD(lr = 0.25),\n",
    "                    loss='mse',\n",
    "                    metrics=['accuracy'])\n",
    "\n",
    "\n",
    "\n",
    "#initial_weights = or_network.get_weights()\n",
    "#with sess.as_default():\n",
    "#    new_weights = [glorot_uniform()(w.shape).eval() for w in initial_weights]\n",
    "#or_network.set_weights(new_weights)\n",
    "\n",
    "or_network.fit(dataset, targets, epochs=100, batch_size=1, verbose=0)"
   ]
  },
  {
   "cell_type": "code",
   "execution_count": null,
   "metadata": {},
   "outputs": [],
   "source": [
    "w, b = and_network.get_weights()\n",
    "print(\"weights: \", w)\n",
    "print(\"bias: \", b)"
   ]
  },
  {
   "cell_type": "code",
   "execution_count": null,
   "metadata": {},
   "outputs": [],
   "source": [
    "plt.xlim(-1, 2)\n",
    "plt.ylim(-1, 2)\n",
    "plt.scatter(list(map(lambda x: x[0], dataset)),\n",
    "            list(map(lambda x: x[1], dataset)),\n",
    "            c=colors,\n",
    "            s=50)\n",
    "x_decision_hyperplane = list(range(-1,3))\n",
    "y_decision_hyperplane = list(map(lambda x: (-(w[0]/w[1])*x -(b/w[1]))[0], x_decision_hyperplane))\n",
    "print(list(zip(x_decision_hyperplane, y_decision_hyperplane)))\n",
    "plt.plot(x_decision_hyperplane, y_decision_hyperplane, '-.')\n",
    "plt.show()"
   ]
  },
  {
   "cell_type": "markdown",
   "metadata": {},
   "source": [
    "# NOT operand network"
   ]
  },
  {
   "cell_type": "code",
   "execution_count": null,
   "metadata": {},
   "outputs": [],
   "source": [
    "dataset = np.array([0, 1])\n",
    "targets = np.array([1, 0])\n",
    "\n",
    "print(dataset.shape)\n",
    "print(targets.shape)\n",
    "\n",
    "not_network = Sequential([\n",
    "    Dense(1, input_dim=1),\n",
    "    Activation('relu')\n",
    "])\n",
    "\n",
    "not_network.compile(optimizer=SGD(lr = 0.5),\n",
    "                    loss='mse',\n",
    "                    metrics=['accuracy'])\n",
    "\n",
    "not_network.fit(dataset, targets, epochs=200, batch_size=1, verbose=0)"
   ]
  },
  {
   "cell_type": "code",
   "execution_count": null,
   "metadata": {},
   "outputs": [],
   "source": [
    "w, b = and_network.get_weights()\n",
    "print(\"weights: \", w)\n",
    "print(\"bias: \", b)"
   ]
  },
  {
   "cell_type": "code",
   "execution_count": null,
   "metadata": {},
   "outputs": [],
   "source": [
    "plt.xlim(-1, 2)\n",
    "plt.ylim(-1, 2)\n",
    "plt.scatter(list(map(lambda x: x[0], dataset)),\n",
    "            list(map(lambda x: x[1], dataset)),\n",
    "            c=colors,\n",
    "            s=50)\n",
    "x_decision_hyperplane = list(range(-1,3))\n",
    "y_decision_hyperplane = list(map(lambda x: (-(w[0]/w[1])*x -(b/w[1]))[0], x_decision_hyperplane))\n",
    "print(list(zip(x_decision_hyperplane, y_decision_hyperplane)))\n",
    "plt.plot(x_decision_hyperplane, y_decision_hyperplane, '-.')\n",
    "plt.show()"
   ]
  },
  {
   "cell_type": "code",
   "execution_count": null,
   "metadata": {},
   "outputs": [],
   "source": [
    "# Training with Iris dataset"
   ]
  },
  {
   "cell_type": "code",
   "execution_count": null,
   "metadata": {
    "scrolled": true
   },
   "outputs": [],
   "source": [
    "dataset = datasets.load_iris()\n",
    "print(dataset.keys())\n",
    "\n",
    "n_features = len(dataset.feature_names)\n",
    "one_hot_labels = keras.utils.to_categorical(dataset.target, num_classes=10)\n",
    "print(n_features)\n",
    "print(dataset.data.shape)\n",
    "print(one_hot_labels.shape)\n",
    "\n",
    "model = Sequential([\n",
    "    Dense(5, input_dim=n_features, activation='relu')\n",
    "])\n",
    "model.add(Dense(10, activation='softmax'))\n",
    "\n",
    "model.compile(optimizer='rmsprop',\n",
    "              loss='binary_crossentropy',\n",
    "              metrics=['accuracy'])\n",
    "\n",
    "# Train the model, iterating on the data in batches of 32 samples\n",
    "print(one_hot_labels)\n",
    "model.fit(dataset.data, one_hot_labels, epochs=100, batch_size=32)"
   ]
  },
  {
   "cell_type": "code",
   "execution_count": null,
   "metadata": {},
   "outputs": [],
   "source": [
    "?model"
   ]
  },
  {
   "cell_type": "code",
   "execution_count": null,
   "metadata": {},
   "outputs": [],
   "source": []
  }
 ],
 "metadata": {
  "kernelspec": {
   "display_name": "Python 3",
   "language": "python",
   "name": "python3"
  },
  "language_info": {
   "codemirror_mode": {
    "name": "ipython",
    "version": 3
   },
   "file_extension": ".py",
   "mimetype": "text/x-python",
   "name": "python",
   "nbconvert_exporter": "python",
   "pygments_lexer": "ipython3",
   "version": "3.6.2"
  }
 },
 "nbformat": 4,
 "nbformat_minor": 2
}
