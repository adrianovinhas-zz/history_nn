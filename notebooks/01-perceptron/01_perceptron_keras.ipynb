{
 "cells": [
  {
   "cell_type": "markdown",
   "metadata": {},
   "source": [
    "# Part 0 - Explaining the perceptron\n",
    "\n",
    "### McCulloch and Pitts model\n",
    "\n",
    "In order to formalize how the \n",
    "\n",
    "<img src=\"files/mcculloch_pitts.png\" width=\"300\" height=\"300\">"
   ]
  },
  {
   "cell_type": "markdown",
   "metadata": {},
   "source": [
    "# Part 1 \n",
    "## Building the perceptron (no Keras)"
   ]
  },
  {
   "cell_type": "code",
   "execution_count": 1,
   "metadata": {},
   "outputs": [],
   "source": [
    "import numpy as np\n",
    "import matplotlib.pyplot as plt"
   ]
  },
  {
   "cell_type": "code",
   "execution_count": 2,
   "metadata": {},
   "outputs": [],
   "source": [
    "def activation(f):\n",
    "    '''f is a matrix (N x 1)'''\n",
    "    return np.where(f>0, 1, 0)\n",
    "\n",
    "def feed_forward(W, x):\n",
    "    '''\n",
    "    network is assumed to be a numpy array (M+1 x N)\n",
    "    x is a numpy array (1 x M)\n",
    "    it returns an (N x 1) array\n",
    "    '''\n",
    "    return activation(np.dot(np.transpose(W), np.transpose(x)))\n",
    "\n",
    "# Online training\n",
    "def train(examples, targets, W, epochs, lr):\n",
    "    for e in range(epochs):\n",
    "        for x, t in zip(examples, targets):\n",
    "            x = np.concatenate((x, [[1]]), axis=1)\n",
    "            #print(\"W\", W, W.shape)\n",
    "            #print(\"x\", x, x.shape)\n",
    "            y = feed_forward(W, x)\n",
    "            errors = np.subtract(y, t)\n",
    "            deltas = lr * np.dot(errors, x)\n",
    "            W = np.subtract(W, np.transpose(deltas))\n",
    "    return W\n",
    "\n",
    "def is_output_correct(y, t):\n",
    "    ''' compares two (N x 1) arrays'''\n",
    "    return np.array_equal(y,t)\n",
    "\n",
    "def get_accuracy(examples, targets, W):\n",
    "    right_answers = 0\n",
    "    for x, t in zip(examples, targets):\n",
    "        x = np.concatenate((x, [[1]]), axis=1)\n",
    "        y = feed_forward(W, x)\n",
    "        if is_output_correct(y.flatten(), t):\n",
    "            right_answers += 1\n",
    "    return right_answers/examples.shape[0]"
   ]
  },
  {
   "cell_type": "code",
   "execution_count": 3,
   "metadata": {},
   "outputs": [],
   "source": [
    "def plot_decision_boundary():\n",
    "    plt.xlim(-1, 2)\n",
    "    plt.ylim(-1, 2)\n",
    "    plt.scatter(list(map(lambda x: x[0][0], dataset)),\n",
    "                list(map(lambda x: x[0][1], dataset)),\n",
    "                c=colors,\n",
    "                s=50)\n",
    "    x_decision_hyperplane = list(range(-1,3))\n",
    "    b = W[-1][0]\n",
    "    y_decision_hyperplane = list(map(lambda x: (-(W[0][0]/W[1][0])*x -(b/W[1][0])), x_decision_hyperplane))\n",
    "    print(\"--------------\")\n",
    "    print(\"Predictions: \")\n",
    "    print(\"Example (x) | Target (t) | Predicted (y)\")\n",
    "    for x, t in zip(dataset, targets):\n",
    "        x = np.concatenate((x, [[1]]), axis=1)\n",
    "        print(x, t, feed_forward(W,x))\n",
    "\n",
    "    plt.plot(x_decision_hyperplane, y_decision_hyperplane, '-.')\n",
    "    plt.show()"
   ]
  },
  {
   "cell_type": "markdown",
   "metadata": {},
   "source": [
    "## AND operand network"
   ]
  },
  {
   "cell_type": "code",
   "execution_count": 4,
   "metadata": {},
   "outputs": [],
   "source": [
    "input_neurons = 2\n",
    "output_neurons = 1"
   ]
  },
  {
   "cell_type": "code",
   "execution_count": 5,
   "metadata": {},
   "outputs": [
    {
     "name": "stdout",
     "output_type": "stream",
     "text": [
      "Trained network weights:  [[ 0.48]\n",
      " [ 0.27]\n",
      " [-0.55]]\n",
      "Accuracy:  1.0\n",
      "--------------\n",
      "Predictions: \n",
      "Example (x) | Target (t) | Predicted (y)\n",
      "[[0 0 1]] [0] [[0]]\n",
      "[[0 1 1]] [0] [[0]]\n",
      "[[1 0 1]] [0] [[0]]\n",
      "[[1 1 1]] [1] [[1]]\n"
     ]
    },
    {
     "data": {
      "image/png": "[encoded data removed]",
      "text/plain": [
       "<Figure size 432x288 with 1 Axes>"
      ]
     },
     "metadata": {},
     "output_type": "display_data"
    }
   ],
   "source": [
    "dataset = np.array([[[0, 0]], [[0, 1]], [[1, 0]], [[1, 1]]])\n",
    "targets = np.array([[0], [0], [0], [1]])\n",
    "colors = ['black', 'black', 'black','red']\n",
    "\n",
    "initial_network = np.random.uniform(-1.0, 1.0, (input_neurons+1, output_neurons))\n",
    "initial_network = np.array([[-0.02], [0.02], [-0.05]])\n",
    "W = train(dataset, targets, initial_network, epochs=5, lr=0.25)\n",
    "print(\"Trained network weights: \", W)\n",
    "print(\"Accuracy: \", get_accuracy(dataset, targets, W))\n",
    "plot_decision_boundary()"
   ]
  },
  {
   "cell_type": "markdown",
   "metadata": {},
   "source": [
    "## OR operand network"
   ]
  },
  {
   "cell_type": "code",
   "execution_count": 6,
   "metadata": {},
   "outputs": [],
   "source": [
    "input_neurons = 2\n",
    "output_neurons = 1"
   ]
  },
  {
   "cell_type": "code",
   "execution_count": 7,
   "metadata": {},
   "outputs": [
    {
     "name": "stdout",
     "output_type": "stream",
     "text": [
      "Trained network weights:  [[-0.52]\n",
      " [-0.23]\n",
      " [ 0.7 ]]\n",
      "Accuracy:  1.0\n",
      "--------------\n",
      "Predictions: \n",
      "Example (x) | Target (t) | Predicted (y)\n",
      "[[0 0 1]] [1] [[1]]\n",
      "[[0 1 1]] [1] [[1]]\n",
      "[[1 0 1]] [1] [[1]]\n",
      "[[1 1 1]] [0] [[0]]\n"
     ]
    },
    {
     "data": {
      "image/png": "[encoded data removed]",
      "text/plain": [
       "<Figure size 432x288 with 1 Axes>"
      ]
     },
     "metadata": {},
     "output_type": "display_data"
    }
   ],
   "source": [
    "dataset = np.array([[[0, 0]], [[0, 1]], [[1, 0]], [[1, 1]]])\n",
    "targets = np.array([[1], [1], [1], [0]])\n",
    "colors = ['black', 'black', 'black','red']\n",
    "\n",
    "initial_network = np.random.uniform(-1.0, 1.0, (input_neurons+1, output_neurons))\n",
    "initial_network = np.array([[-0.02], [0.02], [-0.05]])\n",
    "W = train(dataset, targets, initial_network, epochs=5, lr=0.25)\n",
    "print(\"Trained network weights: \", W)\n",
    "print(\"Accuracy: \", get_accuracy(dataset, targets, W))\n",
    "plot_decision_boundary()"
   ]
  },
  {
   "cell_type": "markdown",
   "metadata": {},
   "source": [
    "## NOT operand network"
   ]
  },
  {
   "cell_type": "code",
   "execution_count": 8,
   "metadata": {},
   "outputs": [],
   "source": [
    "input_neurons = 1\n",
    "output_neurons = 1"
   ]
  },
  {
   "cell_type": "code",
   "execution_count": 18,
   "metadata": {},
   "outputs": [],
   "source": [
    "def plot_decision_boundary_single_input():\n",
    "    plt.xlim(-1, 2)\n",
    "    plt.ylim(-1, 2)\n",
    "    plt.scatter(list(map(lambda x: 0, dataset)),\n",
    "                list(map(lambda x: x[0][0], dataset)),\n",
    "                c=colors,\n",
    "                s=50)\n",
    "    x_decision_hyperplane = list(range(-1,3))\n",
    "    b = W[-1][0]\n",
    "    y_decision_hyperplane = list(map(lambda x: -(b/W[0][0]), x_decision_hyperplane))\n",
    "    print(\"--------------\")\n",
    "    print(\"Predictions: \")\n",
    "    print(\"Example (x) | Target (t) | Predicted (y)\")\n",
    "    for x, t in zip(dataset, targets):\n",
    "        x = np.concatenate((x, [[1]]), axis=1)\n",
    "        print(x, t, feed_forward(W,x))\n",
    "\n",
    "    plt.plot(x_decision_hyperplane, y_decision_hyperplane, '-.')\n",
    "    plt.show()"
   ]
  },
  {
   "cell_type": "code",
   "execution_count": 24,
   "metadata": {},
   "outputs": [
    {
     "name": "stdout",
     "output_type": "stream",
     "text": [
      "Trained network weights:  [[-0.45]\n",
      " [ 0.2 ]]\n",
      "Accuracy:  1.0\n",
      "--------------\n",
      "Predictions: \n",
      "Example (x) | Target (t) | Predicted (y)\n",
      "[[1 1]] [0] [[0]]\n",
      "[[0 1]] [1] [[1]]\n"
     ]
    },
    {
     "data": {
      "image/png": "[encoded data removed]",
      "text/plain": [
       "<Figure size 432x288 with 1 Axes>"
      ]
     },
     "metadata": {},
     "output_type": "display_data"
    }
   ],
   "source": [
    "dataset = np.array([[[1]], [[0]]])\n",
    "targets = np.array([[0], [1]])\n",
    "colors = ['black', 'red']\n",
    "\n",
    "initial_network = np.random.uniform(-1.0, 1.0, (input_neurons+1, output_neurons))\n",
    "initial_network = np.array([[0.8], [0.2]])\n",
    "W = train(dataset, targets, initial_network, epochs=5, lr=0.25)\n",
    "print(\"Trained network weights: \", W)\n",
    "print(\"Accuracy: \", get_accuracy(dataset, targets, W))\n",
    "plot_decision_boundary_single_input()"
   ]
  },
  {
   "cell_type": "markdown",
   "metadata": {},
   "source": [
    "***\n",
    "# Part 2 \n",
    "## Building the perceptron (kind of) in Keras"
   ]
  },
  {
   "cell_type": "code",
   "execution_count": 25,
   "metadata": {},
   "outputs": [
    {
     "name": "stderr",
     "output_type": "stream",
     "text": [
      "Using TensorFlow backend.\n"
     ]
    }
   ],
   "source": [
    "from keras.models import Sequential\n",
    "from keras import backend as K\n",
    "from keras.layers import Dense, Activation\n",
    "from keras.initializers import glorot_uniform  # Or your initializer of choice\n",
    "import sklearn.datasets as datasets\n",
    "from keras.optimizers import SGD\n",
    "import tensorflow as tf\n",
    "import keras"
   ]
  },
  {
   "cell_type": "code",
   "execution_count": 26,
   "metadata": {},
   "outputs": [],
   "source": [
    "input_neurons = 2\n",
    "output_neurons = 1"
   ]
  },
  {
   "cell_type": "code",
   "execution_count": 68,
   "metadata": {},
   "outputs": [
    {
     "name": "stdout",
     "output_type": "stream",
     "text": [
      "(4, 2)\n",
      "(4,)\n"
     ]
    }
   ],
   "source": [
    "dataset = np.array([[0, 0], [0, 1], [1, 0], [1, 1]])\n",
    "targets = np.array([0, 0, 0, 1])\n",
    "colors = ['black', 'black', 'black','red']\n",
    "\n",
    "print(dataset.shape)\n",
    "print(targets.shape)\n",
    "\n",
    "def binary_activation(x):\n",
    "    cond = tf.less(x, tf.zeros(tf.shape(x)))\n",
    "    out = tf.where(cond, tf.zeros(tf.shape(x)), tf.ones(tf.shape(x)))\n",
    "    return out\n",
    "\n",
    "def custom_activation(x):\n",
    "    return (K.sigmoid(x) * 5) - 1\n",
    "\n",
    "and_network = Sequential([\n",
    "    Dense(1, input_dim=2, init=\"one\"),#weights=[np.array([[ 0.48], [ 0.27]]), np.array([-0.55])]),\n",
    "    Activation(\"relu\")\n",
    "])\n",
    "\n",
    "and_network.compile(optimizer=SGD(lr = 0.3),\n",
    "                    loss='mse',\n",
    "                    metrics=['acc'])\n",
    "\n",
    "history = and_network.fit(dataset, targets, epochs=10, batch_size=1, verbose=0, shuffle=False)"
   ]
  },
  {
   "cell_type": "code",
   "execution_count": 69,
   "metadata": {},
   "outputs": [
    {
     "name": "stdout",
     "output_type": "stream",
     "text": [
      "weights:  [[1.0295312]\n",
      " [1.0045372]]\n",
      "bias:  [-1.0336664]\n",
      "accuracy:  1.0\n",
      "[array([[1.0295312],\n",
      "       [1.0045372]], dtype=float32), array([-1.0336664], dtype=float32)]\n"
     ]
    }
   ],
   "source": [
    "w, b = and_network.get_weights()\n",
    "print(\"weights: \", w)\n",
    "print(\"bias: \", b)\n",
    "print(\"accuracy: \", history.history['acc'][-1])\n",
    "print(and_network.get_weights())"
   ]
  },
  {
   "cell_type": "code",
   "execution_count": 70,
   "metadata": {},
   "outputs": [
    {
     "name": "stdout",
     "output_type": "stream",
     "text": [
      "[1.0289975]\n",
      "[(-1, 2.0538788), (0, 1.0289975), (1, 0.004116416), (2, -1.0207647)]\n",
      "--------------\n",
      "Predictions: \n",
      "[0 0] 0 [0] [0.]\n",
      "[0 1] 0 [0] [1.0295312]\n",
      "[1 0] 0 [0] [1.0295312]\n",
      "[1 1] 1 [1] [2.0590625]\n"
     ]
    },
    {
     "data": {
      "image/png": "[encoded data removed]",
      "text/plain": [
       "<Figure size 432x288 with 1 Axes>"
      ]
     },
     "metadata": {},
     "output_type": "display_data"
    }
   ],
   "source": [
    "plt.xlim(-1, 2)\n",
    "plt.ylim(-1, 2)\n",
    "plt.scatter(list(map(lambda x: x[0], dataset)),\n",
    "            list(map(lambda x: x[1], dataset)),\n",
    "            c=colors,\n",
    "            s=50)\n",
    "x_decision_hyperplane = list(range(-1,3))\n",
    "print(-(w[0]/w[1])*0 -(b/w[1]))\n",
    "y_decision_hyperplane = list(map(lambda x: (-(w[0]/w[1])*x -(b/w[1]))[0], x_decision_hyperplane))\n",
    "print(list(zip(x_decision_hyperplane, y_decision_hyperplane)))\n",
    "predicted = and_network.predict_classes(dataset)\n",
    "print(\"--------------\")\n",
    "print(\"Predictions: \")\n",
    "for ex, t, ac in zip(dataset, targets, predicted):\n",
    "    print(ex, t, ac, ex[0]*w[0]+ex[1]*w[0])\n",
    "\n",
    "plt.plot(x_decision_hyperplane, y_decision_hyperplane, '-.')\n",
    "plt.show()\n",
    "\n",
    "#[-0.3442232]\n",
    "#[(-1, 0.52184135), (0, -0.3442232), (1, -1.2102878), (2, -2.0763524)]\n",
    "#--------------\n",
    "#Predictions: \n",
    "#[0 0] 0 [0] [0.]\n",
    "#[0 1] 0 [1] [0.6737635]\n",
    "#[1 0] 0 [1] [0.6737635]\n",
    "#[1 1] 1 [1] [1.347527]"
   ]
  },
  {
   "cell_type": "markdown",
   "metadata": {},
   "source": [
    "# OR operand network"
   ]
  },
  {
   "cell_type": "code",
   "execution_count": null,
   "metadata": {},
   "outputs": [],
   "source": [
    "dataset = np.array([[0, 0], [0, 1], [1, 0], [1, 1]])\n",
    "targets = np.array([1, 1, 1, 0])\n",
    "\n",
    "print(dataset.shape)\n",
    "print(targets.shape)\n",
    "\n",
    "or_network = Sequential([\n",
    "    Dense(1, input_dim=2),\n",
    "    Activation('sigmoid')\n",
    "])\n",
    "\n",
    "or_network.compile(optimizer=SGD(lr = 0.25),\n",
    "                    loss='mse',\n",
    "                    metrics=['accuracy'])\n",
    "\n",
    "\n",
    "\n",
    "#initial_weights = or_network.get_weights()\n",
    "#with sess.as_default():\n",
    "#    new_weights = [glorot_uniform()(w.shape).eval() for w in initial_weights]\n",
    "#or_network.set_weights(new_weights)\n",
    "\n",
    "or_network.fit(dataset, targets, epochs=100, batch_size=1, verbose=0)"
   ]
  },
  {
   "cell_type": "code",
   "execution_count": null,
   "metadata": {},
   "outputs": [],
   "source": [
    "w, b = and_network.get_weights()\n",
    "print(\"weights: \", w)\n",
    "print(\"bias: \", b)"
   ]
  },
  {
   "cell_type": "code",
   "execution_count": null,
   "metadata": {},
   "outputs": [],
   "source": [
    "plt.xlim(-1, 2)\n",
    "plt.ylim(-1, 2)\n",
    "plt.scatter(list(map(lambda x: x[0], dataset)),\n",
    "            list(map(lambda x: x[1], dataset)),\n",
    "            c=colors,\n",
    "            s=50)\n",
    "x_decision_hyperplane = list(range(-1,3))\n",
    "y_decision_hyperplane = list(map(lambda x: (-(w[0]/w[1])*x -(b/w[1]))[0], x_decision_hyperplane))\n",
    "print(list(zip(x_decision_hyperplane, y_decision_hyperplane)))\n",
    "plt.plot(x_decision_hyperplane, y_decision_hyperplane, '-.')\n",
    "plt.show()"
   ]
  },
  {
   "cell_type": "markdown",
   "metadata": {},
   "source": [
    "# NOT operand network"
   ]
  },
  {
   "cell_type": "code",
   "execution_count": null,
   "metadata": {},
   "outputs": [],
   "source": [
    "dataset = np.array([0, 1])\n",
    "targets = np.array([1, 0])\n",
    "\n",
    "print(dataset.shape)\n",
    "print(targets.shape)\n",
    "\n",
    "not_network = Sequential([\n",
    "    Dense(1, input_dim=1),\n",
    "    Activation('relu')\n",
    "])\n",
    "\n",
    "not_network.compile(optimizer=SGD(lr = 0.5),\n",
    "                    loss='mse',\n",
    "                    metrics=['accuracy'])\n",
    "\n",
    "not_network.fit(dataset, targets, epochs=200, batch_size=1, verbose=0)"
   ]
  },
  {
   "cell_type": "code",
   "execution_count": null,
   "metadata": {},
   "outputs": [],
   "source": [
    "w, b = and_network.get_weights()\n",
    "print(\"weights: \", w)\n",
    "print(\"bias: \", b)"
   ]
  },
  {
   "cell_type": "code",
   "execution_count": null,
   "metadata": {},
   "outputs": [],
   "source": [
    "plt.xlim(-1, 2)\n",
    "plt.ylim(-1, 2)\n",
    "plt.scatter(list(map(lambda x: x[0], dataset)),\n",
    "            list(map(lambda x: x[1], dataset)),\n",
    "            c=colors,\n",
    "            s=50)\n",
    "x_decision_hyperplane = list(range(-1,3))\n",
    "y_decision_hyperplane = list(map(lambda x: (-(w[0]/w[1])*x -(b/w[1]))[0], x_decision_hyperplane))\n",
    "print(list(zip(x_decision_hyperplane, y_decision_hyperplane)))\n",
    "plt.plot(x_decision_hyperplane, y_decision_hyperplane, '-.')\n",
    "plt.show()"
   ]
  },
  {
   "cell_type": "code",
   "execution_count": null,
   "metadata": {},
   "outputs": [],
   "source": [
    "# Training with Iris dataset"
   ]
  },
  {
   "cell_type": "code",
   "execution_count": null,
   "metadata": {
    "scrolled": true
   },
   "outputs": [],
   "source": [
    "dataset = datasets.load_iris()\n",
    "print(dataset.keys())\n",
    "\n",
    "n_features = len(dataset.feature_names)\n",
    "one_hot_labels = keras.utils.to_categorical(dataset.target, num_classes=10)\n",
    "print(n_features)\n",
    "print(dataset.data.shape)\n",
    "print(one_hot_labels.shape)\n",
    "\n",
    "model = Sequential([\n",
    "    Dense(5, input_dim=n_features, activation='relu')\n",
    "])\n",
    "model.add(Dense(10, activation='softmax'))\n",
    "\n",
    "model.compile(optimizer='rmsprop',\n",
    "              loss='binary_crossentropy',\n",
    "              metrics=['accuracy'])\n",
    "\n",
    "# Train the model, iterating on the data in batches of 32 samples\n",
    "print(one_hot_labels)\n",
    "model.fit(dataset.data, one_hot_labels, epochs=100, batch_size=32)"
   ]
  },
  {
   "cell_type": "code",
   "execution_count": null,
   "metadata": {},
   "outputs": [],
   "source": [
    "?model"
   ]
  },
  {
   "cell_type": "code",
   "execution_count": null,
   "metadata": {},
   "outputs": [],
   "source": []
  }
 ],
 "metadata": {
  "kernelspec": {
   "display_name": "Python 3",
   "language": "python",
   "name": "python3"
  },
  "language_info": {
   "codemirror_mode": {
    "name": "ipython",
    "version": 3
   },
   "file_extension": ".py",
   "mimetype": "text/x-python",
   "name": "python",
   "nbconvert_exporter": "python",
   "pygments_lexer": "ipython3",
   "version": "3.6.5"
  }
 },
 "nbformat": 4,
 "nbformat_minor": 2
}
