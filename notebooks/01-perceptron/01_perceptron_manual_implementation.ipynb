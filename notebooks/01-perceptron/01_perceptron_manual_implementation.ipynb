{
 "cells": [
  {
   "cell_type": "markdown",
   "metadata": {},
   "source": [
    "# Implementing the perceptron with NumPy\n",
    "\n",
    "<img src=\"files/mcculloch_pitts.png\" width=\"300\" height=\"300\">\n",
    "\n",
    "As described in my article on Medium, the perceptron neuron architecture is very similar to the McCulloch and Pitts neurons. It offers more flexibility in terms of weights (they can be real numbers) and the weights are trainable in order to optimize the performance. \n",
    "Let's divide the perceptron's operation mode in two steps:\n",
    "- The feedforward mechanism\n",
    "- The training phase. \n",
    "\n",
    "### The feedforward mechanism\n",
    "\n",
    "We call feedforward to the mechanism of retrieving an output from a set of inputs and weights. The equation that we use to get a predicted output ($y$) is the following:\n",
    "<br>\n",
    "<br>\n",
    "\n",
    "$$\n",
    "\\large\n",
    "y = \\sigma(W \\cdot x + b)\n",
    "$$\n",
    "\n",
    "<br>\n",
    "<br>\n",
    "<br>\n",
    "\n",
    "where $y$ is a vector of values that represent the output, $\\sigma$ is the threshold function $W$ is the matrix of weights, $x$ is a vector that represents an input and $b$ is a vector of biases. The expanded version of this equation is the following:\n",
    "<br>\n",
    "<br>\n",
    "\n",
    "$$\n",
    "\\large\n",
    "\\begin{bmatrix}\n",
    "    y_{1}\\\\\n",
    "    y_{2}\\\\\n",
    "    \\vdots\\\\\n",
    "    y_{n}\n",
    "\\end{bmatrix}\n",
    "=\n",
    "\\sigma(\n",
    "\\begin{bmatrix}\n",
    "    w_{11}       & w_{12} & \\dots  & w_{1m} \\\\\n",
    "    w_{21}       & w_{22} & \\dots  & w_{2m} \\\\\n",
    "    \\vdots       & \\vdots & \\ddots & \\vdots \\\\\n",
    "    w_{n1}       & w_{n2} & \\dots  & w_{nm}\n",
    "\\end{bmatrix}\n",
    "\\cdot\n",
    "\\begin{bmatrix}\n",
    "    x_{1}\\\\\n",
    "    x_{2}\\\\\n",
    "    \\vdots\\\\\n",
    "    x_{m}\n",
    "\\end{bmatrix}\n",
    "+\n",
    "\\begin{bmatrix}\n",
    "    b_{1}\\\\\n",
    "    b_{2}\\\\\n",
    "    \\vdots\\\\\n",
    "    b_{n}\n",
    "\\end{bmatrix}\n",
    ")\n",
    "$$\n",
    "\n",
    "<br>\n",
    "<br>\n",
    "<br>\n",
    "\n",
    "This equation can be transformed in such a way that the biases are incorporated into the weights matrix. And in that case we have the following equation:\n",
    "<br>\n",
    "<br>\n",
    "$$\n",
    "\\large\n",
    "\\begin{bmatrix}\n",
    "    y_{1}\\\\\n",
    "    y_{2}\\\\\n",
    "    \\vdots\\\\\n",
    "    y_{n}\n",
    "\\end{bmatrix}\n",
    "=\n",
    "\\sigma(\n",
    "\\begin{bmatrix}\n",
    "    w_{11}       & w_{12} & \\dots  & w_{1m} & b_{1}\\\\\n",
    "    w_{21}       & w_{22} & \\dots  & w_{2m} & b_{2}\\\\\n",
    "    \\vdots       & \\vdots & \\vdots & \\ddots & \\vdots \\\\\n",
    "    w_{n1}       & w_{n2} & \\dots  & w_{nm} & b_{n}\n",
    "\\end{bmatrix}\n",
    "\\cdot\n",
    "\\begin{bmatrix}\n",
    "    x_{1}\\\\\n",
    "    x_{2}\\\\\n",
    "    \\vdots\\\\\n",
    "    x_{m}\\\\\n",
    "    1\n",
    "\\end{bmatrix}\n",
    ")\n",
    "$$\n",
    "<br>\n",
    "<br>\n",
    "So we are going to implement two functions now: one to implement $\\sigma$ and another one to implement the feedforward mechanism described in the last equation."
   ]
  },
  {
   "cell_type": "code",
   "execution_count": 21,
   "metadata": {},
   "outputs": [],
   "source": [
    "import numpy as np\n",
    "import matplotlib.pyplot as plt\n",
    "from numpy.linalg import pinv"
   ]
  },
  {
   "cell_type": "code",
   "execution_count": 2,
   "metadata": {},
   "outputs": [],
   "source": [
    "def activation(z):\n",
    "    '''z is a vector (numpy array) (N x 1)'''\n",
    "    return np.where(z>0, 1, 0)\n",
    "\n",
    "def feed_forward(W, x):\n",
    "    '''\n",
    "    W is a matrix (numpy array) (N x M+1)\n",
    "    x is a vector (numpy array) (M+1 x 1)\n",
    "    it returns an (N x 1) array\n",
    "    '''\n",
    "    return activation(np.dot(W, x))"
   ]
  },
  {
   "cell_type": "markdown",
   "metadata": {},
   "source": [
    "Let's try to test this by trying the end-to-end example on my first article on Medium. Please note that in that example there is no bias node so I'll try to simulate that situation by adding a bias node with weight zero to give the same effect"
   ]
  },
  {
   "cell_type": "code",
   "execution_count": 3,
   "metadata": {},
   "outputs": [
    {
     "name": "stdout",
     "output_type": "stream",
     "text": [
      "z =  [[0.75]]\n",
      "y =  [[1]]\n"
     ]
    }
   ],
   "source": [
    "# M = 3\n",
    "# N = 1\n",
    "\n",
    "x = [[2], [-0.75], [2], [1]]\n",
    "W = [[-1, -1, 1, 0]]\n",
    "print(\"z = \", np.dot(W, x)) # Just to get a sense of what happens inside the feedforward mechanism\n",
    "print(\"y = \", feed_forward(W, x))"
   ]
  },
  {
   "cell_type": "markdown",
   "metadata": {},
   "source": [
    "Good, the outputs look the same! Let's learn how to train a perceptron network"
   ]
  },
  {
   "cell_type": "markdown",
   "metadata": {},
   "source": [
    "## Training a perceptron"
   ]
  },
  {
   "cell_type": "code",
   "execution_count": 4,
   "metadata": {},
   "outputs": [],
   "source": [
    "# Online training\n",
    "def train(W, inputs, targets, epochs, lr):\n",
    "    '''\n",
    "    W is a matrix (numpy array) (N x M+1)\n",
    "    inputs is an array of several x's\n",
    "    targets is an array of several expected outputs (t)\n",
    "    epochs is an integer that represents the number of epochs a network is trained\n",
    "    lr is the a float that represents the learning rate\n",
    "    it returns an (N x M+1) array\n",
    "    '''\n",
    "    for epoch in range(epochs):\n",
    "        for x, t in zip(inputs, targets):\n",
    "            x = np.concatenate((x, [[1]]), axis=0)\n",
    "            y = feed_forward(W, x)\n",
    "            errors = np.subtract(y, t)\n",
    "            deltas = lr * np.transpose(np.dot(errors, np.transpose(x)))\n",
    "            W = np.subtract(W, np.transpose(deltas))\n",
    "    return W"
   ]
  },
  {
   "cell_type": "code",
   "execution_count": 5,
   "metadata": {},
   "outputs": [],
   "source": [
    "def is_output_correct(y, t):\n",
    "    ''' compares two (N x 1) arrays'''\n",
    "    return np.array_equal(y, t)\n",
    "\n",
    "def get_accuracy(examples, targets, W):\n",
    "    right_answers = 0\n",
    "    for x, t in zip(examples, targets):\n",
    "        x = np.concatenate((x, [[1]]), axis=0)\n",
    "        y = feed_forward(W, x)\n",
    "        if is_output_correct(y, t):\n",
    "            right_answers += 1\n",
    "    return right_answers/examples.shape[0]"
   ]
  },
  {
   "cell_type": "markdown",
   "metadata": {},
   "source": [
    "## Examples of perceptrons learning"
   ]
  },
  {
   "cell_type": "code",
   "execution_count": 6,
   "metadata": {},
   "outputs": [],
   "source": [
    "def plot_decision_boundary():\n",
    "    plt.xlim(-1, 2)\n",
    "    plt.ylim(-1, 2)\n",
    "    plt.scatter(list(map(lambda x: x[0][0], dataset)),\n",
    "                list(map(lambda x: x[1][0], dataset)),\n",
    "                c=colors,\n",
    "                s=50)\n",
    "    x_decision_hyperplane = list(range(-1,3))\n",
    "    b = W[-1][-1]\n",
    "    y_decision_hyperplane = list(map(lambda x: (-(W[0][0]/W[0][1])*x -(b/W[0][1])), x_decision_hyperplane))\n",
    "    print(\"--------------\")\n",
    "    print(\"Predictions: \")\n",
    "    print(\"Example (x) | Target (t) | Predicted (y)\")\n",
    "    for x, t in zip(dataset, targets):\n",
    "        x = np.concatenate((x, [[1]]), axis=0)\n",
    "        print(\"x: \", x, \"t: \", t, \"y: \", feed_forward(W,x))\n",
    "\n",
    "    plt.plot(x_decision_hyperplane, y_decision_hyperplane, '-.')\n",
    "    plt.show()"
   ]
  },
  {
   "cell_type": "markdown",
   "metadata": {},
   "source": [
    "### Teaching a perceptron to perform the AND operation"
   ]
  },
  {
   "cell_type": "code",
   "execution_count": 7,
   "metadata": {},
   "outputs": [],
   "source": [
    "input_neurons = 2\n",
    "output_neurons = 1"
   ]
  },
  {
   "cell_type": "code",
   "execution_count": 8,
   "metadata": {},
   "outputs": [
    {
     "name": "stdout",
     "output_type": "stream",
     "text": [
      "Trained network weights:  [[ 0.17  0.14 -0.18]]\n",
      "Accuracy:  1.0\n",
      "--------------\n",
      "Predictions: \n",
      "Example (x) | Target (t) | Predicted (y)\n",
      "x:  [[0]\n",
      " [0]\n",
      " [1]] t:  [[0]] y:  [[0]]\n",
      "x:  [[0]\n",
      " [1]\n",
      " [1]] t:  [[0]] y:  [[0]]\n",
      "x:  [[1]\n",
      " [0]\n",
      " [1]] t:  [[0]] y:  [[0]]\n",
      "x:  [[1]\n",
      " [1]\n",
      " [1]] t:  [[1]] y:  [[1]]\n"
     ]
    },
    {
     "data": {
      "image/png": "[encoded data removed]",
      "text/plain": [
       "<Figure size 432x288 with 1 Axes>"
      ]
     },
     "metadata": {},
     "output_type": "display_data"
    }
   ],
   "source": [
    "dataset = np.array([[[0], [0]], [[0], [1]], [[1], [0]], [[1], [1]]])\n",
    "targets = np.array([[[0]], [[0]], [[0]], [[1]]])\n",
    "colors = ['black', 'black', 'black','red']\n",
    "\n",
    "W = [[-0.08, -0.11, 0.07]]\n",
    "W = train(W, dataset, targets, epochs=5, lr=0.25)\n",
    "print(\"Trained network weights: \", W)\n",
    "print(\"Accuracy: \", get_accuracy(dataset, targets, W))\n",
    "plot_decision_boundary()"
   ]
  },
  {
   "cell_type": "markdown",
   "metadata": {},
   "source": [
    "### Teaching a perceptron to perform the OR operation"
   ]
  },
  {
   "cell_type": "code",
   "execution_count": 9,
   "metadata": {},
   "outputs": [],
   "source": [
    "input_neurons = 2\n",
    "output_neurons = 1"
   ]
  },
  {
   "cell_type": "code",
   "execution_count": 10,
   "metadata": {},
   "outputs": [
    {
     "name": "stdout",
     "output_type": "stream",
     "text": [
      "Trained network weights:  [[-0.511 -0.3    0.57 ]]\n",
      "Accuracy:  1.0\n",
      "--------------\n",
      "Predictions: \n",
      "Example (x) | Target (t) | Predicted (y)\n",
      "x:  [[0]\n",
      " [0]\n",
      " [1]] t:  [[1]] y:  [[1]]\n",
      "x:  [[0]\n",
      " [1]\n",
      " [1]] t:  [[1]] y:  [[1]]\n",
      "x:  [[1]\n",
      " [0]\n",
      " [1]] t:  [[1]] y:  [[1]]\n",
      "x:  [[1]\n",
      " [1]\n",
      " [1]] t:  [[0]] y:  [[0]]\n"
     ]
    },
    {
     "data": {
      "image/png": "[encoded data removed]",
      "text/plain": [
       "<Figure size 432x288 with 1 Axes>"
      ]
     },
     "metadata": {},
     "output_type": "display_data"
    }
   ],
   "source": [
    "dataset = np.array([[[0], [0]], [[0], [1]], [[1], [0]], [[1], [1]]])\n",
    "targets = np.array([[[1]], [[1]], [[1]], [[0]]])\n",
    "colors = ['black', 'black', 'black','red']\n",
    "\n",
    "W = [[-0.011, -0.05, 0.07]]\n",
    "W = train(W, dataset, targets, epochs=10, lr=0.25)\n",
    "print(\"Trained network weights: \", W)\n",
    "print(\"Accuracy: \", get_accuracy(dataset, targets, W))\n",
    "plot_decision_boundary()"
   ]
  },
  {
   "cell_type": "markdown",
   "metadata": {},
   "source": [
    "### Teach a perceptron to perform the NOT operation"
   ]
  },
  {
   "cell_type": "code",
   "execution_count": 14,
   "metadata": {},
   "outputs": [],
   "source": [
    "def plot_decision_boundary_single_input():\n",
    "    plt.xlim(-1, 2)\n",
    "    plt.ylim(-1, 2)\n",
    "    plt.scatter(list(map(lambda x: 0, dataset)),\n",
    "                list(map(lambda x: x[0][0], dataset)),\n",
    "                c=colors,\n",
    "                s=50)\n",
    "    x_decision_hyperplane = list(range(-1,3))\n",
    "    b = W[-1][-1]\n",
    "    y_decision_hyperplane = list(map(lambda x: -(b/W[0][0]), x_decision_hyperplane))\n",
    "    print(\"--------------\")\n",
    "    print(\"Predictions: \")\n",
    "    print(\"Example (x) | Target (t) | Predicted (y)\")\n",
    "    for x, t in zip(dataset, targets):\n",
    "        x = np.concatenate((x, [[1]]), axis=0)\n",
    "        print(x, t, feed_forward(W,x))\n",
    "\n",
    "    plt.plot(x_decision_hyperplane, y_decision_hyperplane, '-.')\n",
    "    plt.show()"
   ]
  },
  {
   "cell_type": "code",
   "execution_count": 15,
   "metadata": {},
   "outputs": [],
   "source": [
    "input_neurons = 1\n",
    "output_neurons = 1"
   ]
  },
  {
   "cell_type": "code",
   "execution_count": 16,
   "metadata": {},
   "outputs": [
    {
     "name": "stdout",
     "output_type": "stream",
     "text": [
      "Trained network weights:  [[-0.45  0.2 ]]\n",
      "Accuracy:  1.0\n",
      "--------------\n",
      "Predictions: \n",
      "Example (x) | Target (t) | Predicted (y)\n",
      "[[1]\n",
      " [1]] [[0]] [[0]]\n",
      "[[0]\n",
      " [1]] [[1]] [[1]]\n"
     ]
    },
    {
     "data": {
      "image/png": "[encoded data removed]",
      "text/plain": [
       "<Figure size 432x288 with 1 Axes>"
      ]
     },
     "metadata": {},
     "output_type": "display_data"
    }
   ],
   "source": [
    "dataset = np.array([[[1]], [[0]]])\n",
    "targets = np.array([[[0]], [[1]]])\n",
    "colors = ['black', 'red']\n",
    "\n",
    "W = np.array([[0.8, 0.2]])\n",
    "W = train(W, dataset, targets, epochs=5, lr=0.25)\n",
    "print(\"Trained network weights: \", W)\n",
    "print(\"Accuracy: \", get_accuracy(dataset, targets, W))\n",
    "plot_decision_boundary_single_input()"
   ]
  },
  {
   "cell_type": "markdown",
   "metadata": {},
   "source": [
    "## Offline training"
   ]
  },
  {
   "cell_type": "code",
   "execution_count": 17,
   "metadata": {},
   "outputs": [],
   "source": [
    "# Online training\n",
    "def train(W, inputs, targets, epochs, lr):\n",
    "    '''\n",
    "    W is a matrix (numpy array) (N x M+1)\n",
    "    inputs is an array of several x's\n",
    "    targets is an array of several expected outputs (t)\n",
    "    epochs is an integer that represents the number of epochs a network is trained\n",
    "    lr is the a float that represents the learning rate\n",
    "    it returns an (N x M+1) array\n",
    "    '''\n",
    "    print(pinv(inputs).shape)\n",
    "    return pinv(inputs)"
   ]
  },
  {
   "cell_type": "code",
   "execution_count": null,
   "metadata": {},
   "outputs": [],
   "source": []
  },
  {
   "cell_type": "code",
   "execution_count": 22,
   "metadata": {},
   "outputs": [
    {
     "name": "stdout",
     "output_type": "stream",
     "text": [
      "(4, 1, 2)\n",
      "Trained network weights:  [[[0.  0. ]]\n",
      "\n",
      " [[0.  1. ]]\n",
      "\n",
      " [[1.  0. ]]\n",
      "\n",
      " [[0.5 0.5]]]\n"
     ]
    },
    {
     "ename": "ValueError",
     "evalue": "shapes (4,1,2) and (3,1) not aligned: 2 (dim 2) != 3 (dim 0)",
     "output_type": "error",
     "traceback": [
      "\u001b[0;31m---------------------------------------------------------------------------\u001b[0m",
      "\u001b[0;31mValueError\u001b[0m                                Traceback (most recent call last)",
      "\u001b[0;32m<ipython-input-22-a1b5608586e6>\u001b[0m in \u001b[0;36m<module>\u001b[0;34m()\u001b[0m\n\u001b[1;32m      6\u001b[0m \u001b[0mW\u001b[0m \u001b[0;34m=\u001b[0m \u001b[0mtrain\u001b[0m\u001b[0;34m(\u001b[0m\u001b[0mW\u001b[0m\u001b[0;34m,\u001b[0m \u001b[0mdataset\u001b[0m\u001b[0;34m,\u001b[0m \u001b[0mtargets\u001b[0m\u001b[0;34m,\u001b[0m \u001b[0mepochs\u001b[0m\u001b[0;34m=\u001b[0m\u001b[0;36m5\u001b[0m\u001b[0;34m,\u001b[0m \u001b[0mlr\u001b[0m\u001b[0;34m=\u001b[0m\u001b[0;36m0.25\u001b[0m\u001b[0;34m)\u001b[0m\u001b[0;34m\u001b[0m\u001b[0m\n\u001b[1;32m      7\u001b[0m \u001b[0mprint\u001b[0m\u001b[0;34m(\u001b[0m\u001b[0;34m\"Trained network weights: \"\u001b[0m\u001b[0;34m,\u001b[0m \u001b[0mW\u001b[0m\u001b[0;34m)\u001b[0m\u001b[0;34m\u001b[0m\u001b[0m\n\u001b[0;32m----> 8\u001b[0;31m \u001b[0mprint\u001b[0m\u001b[0;34m(\u001b[0m\u001b[0;34m\"Accuracy: \"\u001b[0m\u001b[0;34m,\u001b[0m \u001b[0mget_accuracy\u001b[0m\u001b[0;34m(\u001b[0m\u001b[0mdataset\u001b[0m\u001b[0;34m,\u001b[0m \u001b[0mtargets\u001b[0m\u001b[0;34m,\u001b[0m \u001b[0mW\u001b[0m\u001b[0;34m)\u001b[0m\u001b[0;34m)\u001b[0m\u001b[0;34m\u001b[0m\u001b[0m\n\u001b[0m\u001b[1;32m      9\u001b[0m \u001b[0mplot_decision_boundary\u001b[0m\u001b[0;34m(\u001b[0m\u001b[0;34m)\u001b[0m\u001b[0;34m\u001b[0m\u001b[0m\n",
      "\u001b[0;32m<ipython-input-5-9baaa0f468cc>\u001b[0m in \u001b[0;36mget_accuracy\u001b[0;34m(examples, targets, W)\u001b[0m\n\u001b[1;32m      7\u001b[0m     \u001b[0;32mfor\u001b[0m \u001b[0mx\u001b[0m\u001b[0;34m,\u001b[0m \u001b[0mt\u001b[0m \u001b[0;32min\u001b[0m \u001b[0mzip\u001b[0m\u001b[0;34m(\u001b[0m\u001b[0mexamples\u001b[0m\u001b[0;34m,\u001b[0m \u001b[0mtargets\u001b[0m\u001b[0;34m)\u001b[0m\u001b[0;34m:\u001b[0m\u001b[0;34m\u001b[0m\u001b[0m\n\u001b[1;32m      8\u001b[0m         \u001b[0mx\u001b[0m \u001b[0;34m=\u001b[0m \u001b[0mnp\u001b[0m\u001b[0;34m.\u001b[0m\u001b[0mconcatenate\u001b[0m\u001b[0;34m(\u001b[0m\u001b[0;34m(\u001b[0m\u001b[0mx\u001b[0m\u001b[0;34m,\u001b[0m \u001b[0;34m[\u001b[0m\u001b[0;34m[\u001b[0m\u001b[0;36m1\u001b[0m\u001b[0;34m]\u001b[0m\u001b[0;34m]\u001b[0m\u001b[0;34m)\u001b[0m\u001b[0;34m,\u001b[0m \u001b[0maxis\u001b[0m\u001b[0;34m=\u001b[0m\u001b[0;36m0\u001b[0m\u001b[0;34m)\u001b[0m\u001b[0;34m\u001b[0m\u001b[0m\n\u001b[0;32m----> 9\u001b[0;31m         \u001b[0my\u001b[0m \u001b[0;34m=\u001b[0m \u001b[0mfeed_forward\u001b[0m\u001b[0;34m(\u001b[0m\u001b[0mW\u001b[0m\u001b[0;34m,\u001b[0m \u001b[0mx\u001b[0m\u001b[0;34m)\u001b[0m\u001b[0;34m\u001b[0m\u001b[0m\n\u001b[0m\u001b[1;32m     10\u001b[0m         \u001b[0;32mif\u001b[0m \u001b[0mis_output_correct\u001b[0m\u001b[0;34m(\u001b[0m\u001b[0my\u001b[0m\u001b[0;34m,\u001b[0m \u001b[0mt\u001b[0m\u001b[0;34m)\u001b[0m\u001b[0;34m:\u001b[0m\u001b[0;34m\u001b[0m\u001b[0m\n\u001b[1;32m     11\u001b[0m             \u001b[0mright_answers\u001b[0m \u001b[0;34m+=\u001b[0m \u001b[0;36m1\u001b[0m\u001b[0;34m\u001b[0m\u001b[0m\n",
      "\u001b[0;32m<ipython-input-2-4ffe9d1b3af0>\u001b[0m in \u001b[0;36mfeed_forward\u001b[0;34m(W, x)\u001b[0m\n\u001b[1;32m      9\u001b[0m     \u001b[0mit\u001b[0m \u001b[0mreturns\u001b[0m \u001b[0man\u001b[0m \u001b[0;34m(\u001b[0m\u001b[0mN\u001b[0m \u001b[0mx\u001b[0m \u001b[0;36m1\u001b[0m\u001b[0;34m)\u001b[0m \u001b[0marray\u001b[0m\u001b[0;34m\u001b[0m\u001b[0m\n\u001b[1;32m     10\u001b[0m     '''\n\u001b[0;32m---> 11\u001b[0;31m     \u001b[0;32mreturn\u001b[0m \u001b[0mactivation\u001b[0m\u001b[0;34m(\u001b[0m\u001b[0mnp\u001b[0m\u001b[0;34m.\u001b[0m\u001b[0mdot\u001b[0m\u001b[0;34m(\u001b[0m\u001b[0mW\u001b[0m\u001b[0;34m,\u001b[0m \u001b[0mx\u001b[0m\u001b[0;34m)\u001b[0m\u001b[0;34m)\u001b[0m\u001b[0;34m\u001b[0m\u001b[0m\n\u001b[0m",
      "\u001b[0;31mValueError\u001b[0m: shapes (4,1,2) and (3,1) not aligned: 2 (dim 2) != 3 (dim 0)"
     ]
    }
   ],
   "source": [
    "dataset = np.array([[[0], [0]], [[0], [1]], [[1], [0]], [[1], [1]]])\n",
    "targets = np.array([[[0]], [[0]], [[0]], [[1]]])\n",
    "colors = ['black', 'black', 'black','red']\n",
    "\n",
    "W = [[-0.08, -0.11, 0.07]]\n",
    "W = train(W, dataset, targets, epochs=5, lr=0.25)\n",
    "print(\"Trained network weights: \", W)\n",
    "print(\"Accuracy: \", get_accuracy(dataset, targets, W))\n",
    "plot_decision_boundary()"
   ]
  },
  {
   "cell_type": "code",
   "execution_count": null,
   "metadata": {},
   "outputs": [],
   "source": []
  }
 ],
 "metadata": {
  "kernelspec": {
   "display_name": "Python 3",
   "language": "python",
   "name": "python3"
  },
  "language_info": {
   "codemirror_mode": {
    "name": "ipython",
    "version": 3
   },
   "file_extension": ".py",
   "mimetype": "text/x-python",
   "name": "python",
   "nbconvert_exporter": "python",
   "pygments_lexer": "ipython3",
   "version": "3.6.2"
  }
 },
 "nbformat": 4,
 "nbformat_minor": 2
}
