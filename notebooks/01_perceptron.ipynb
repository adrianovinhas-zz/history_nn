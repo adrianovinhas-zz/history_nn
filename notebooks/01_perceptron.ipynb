{
 "cells": [
  {
   "cell_type": "code",
   "execution_count": 19,
   "metadata": {},
   "outputs": [],
   "source": [
    "from keras.models import Sequential\n",
    "import matplotlib.pyplot as plt\n",
    "from keras import backend as K\n",
    "from keras.layers import Dense, Activation\n",
    "from keras.initializers import glorot_uniform  # Or your initializer of choice\n",
    "import sklearn.datasets as datasets\n",
    "import numpy as np\n",
    "from keras.optimizers import SGD\n",
    "import tensorflow as tf\n",
    "import keras"
   ]
  },
  {
   "cell_type": "markdown",
   "metadata": {},
   "source": [
    "# Building the perceptron (no Keras)"
   ]
  },
  {
   "cell_type": "code",
   "execution_count": 56,
   "metadata": {},
   "outputs": [
    {
     "name": "stdout",
     "output_type": "stream",
     "text": [
      "[[ 0  1  2]\n",
      " [ 3  4  5]\n",
      " [ 6  7  8]\n",
      " [ 9 10 11]]\n"
     ]
    },
    {
     "data": {
      "text/plain": [
       "array([3, 6])"
      ]
     },
     "execution_count": 56,
     "metadata": {},
     "output_type": "execute_result"
    }
   ],
   "source": [
    "input_neurons = 3\n",
    "output_neurons = 2\n",
    "network = np.random.uniform(-1.0, 1.0, (input_neurons, output_neurons))\n",
    "\n",
    "def activation(x):\n",
    "    return 0 if x>0 else 1\n",
    "\n",
    "def feed_forward(example, network):\n",
    "    final_result = []\n",
    "    for out_neuron in range(network.shape[1]):\n",
    "        f = map(lambda x,y: return x*y, zip(example, network[:, out_neuron]))\n",
    "        final_result.append(activation(sum(f)))\n",
    "    return final_result\n",
    "\n",
    "# Online training\n",
    "def train(examples, network):\n",
    "    for e in examples:\n",
    "        final_result = feed_forward(e, network)\n",
    "        # "
   ]
  },
  {
   "cell_type": "markdown",
   "metadata": {},
   "source": [
    "# AND operand network"
   ]
  },
  {
   "cell_type": "code",
   "execution_count": 38,
   "metadata": {},
   "outputs": [
    {
     "name": "stdout",
     "output_type": "stream",
     "text": [
      "(4, 2)\n",
      "(4,)\n"
     ]
    },
    {
     "data": {
      "text/plain": [
       "<module 'keras.backend' from '/Library/Frameworks/Python.framework/Versions/3.6/lib/python3.6/site-packages/keras/backend/__init__.py'>"
      ]
     },
     "execution_count": 38,
     "metadata": {},
     "output_type": "execute_result"
    }
   ],
   "source": [
    "dataset = np.array([[0, 0], [0, 1], [1, 0], [1, 1]])\n",
    "targets = np.array([0, 0, 0, 1])\n",
    "colors = ['black', 'black', 'black','red']\n",
    "\n",
    "print(dataset.shape)\n",
    "print(targets.shape)\n",
    "\n",
    "def binary_activation(x):\n",
    "    cond = tf.less(x, tf.zeros(tf.shape(x)))\n",
    "    out = tf.where(cond, tf.zeros(tf.shape(x)), tf.ones(tf.shape(x)))\n",
    "    return out\n",
    "\n",
    "def custom_activation(x):\n",
    "    return (K.sigmoid(x) * 5) - 1\n",
    "\n",
    "and_network = Sequential([\n",
    "    Dense(1, input_dim=2),\n",
    "    Activation(\"sigmoid\")\n",
    "])\n",
    "\n",
    "and_network.compile(optimizer=SGD(lr = 0.3),\n",
    "                    loss='mse',\n",
    "                    metrics=['acc'])\n",
    "\n",
    "history = and_network.fit(dataset, targets, epochs=10, batch_size=1, verbose=0)\n",
    "K"
   ]
  },
  {
   "cell_type": "code",
   "execution_count": 39,
   "metadata": {},
   "outputs": [
    {
     "name": "stdout",
     "output_type": "stream",
     "text": [
      "weights:  [[ 1.1992279 ]\n",
      " [-0.28550366]]\n",
      "bias:  [-0.9622564]\n",
      "accuracy:  0.5\n"
     ]
    }
   ],
   "source": [
    "w, b = and_network.get_weights()\n",
    "print(\"weights: \", w)\n",
    "print(\"bias: \", b)\n",
    "print(\"accuracy: \", history.history['acc'][-1])"
   ]
  },
  {
   "cell_type": "code",
   "execution_count": 40,
   "metadata": {},
   "outputs": [
    {
     "name": "stdout",
     "output_type": "stream",
     "text": [
      "[-3.370382]\n",
      "[(-1, -7.570776), (0, -3.370382), (1, 0.8300121), (2, 5.030406)]\n",
      "--------------\n",
      "Predictions: \n",
      "[0 0] 0 [0] [0.]\n",
      "[0 1] 0 [0] [1.1992279]\n",
      "[1 0] 0 [1] [1.1992279]\n",
      "[1 1] 1 [0] [2.3984559]\n"
     ]
    },
    {
     "data": {
      "image/png": "[encoded data removed]",
      "text/plain": [
       "<Figure size 432x288 with 1 Axes>"
      ]
     },
     "metadata": {
      "needs_background": "light"
     },
     "output_type": "display_data"
    }
   ],
   "source": [
    "plt.xlim(-1, 2)\n",
    "plt.ylim(-1, 2)\n",
    "plt.scatter(list(map(lambda x: x[0], dataset)),\n",
    "            list(map(lambda x: x[1], dataset)),\n",
    "            c=colors,\n",
    "            s=50)\n",
    "x_decision_hyperplane = list(range(-1,3))\n",
    "print(-(w[0]/w[1])*0 -(b/w[1]))\n",
    "y_decision_hyperplane = list(map(lambda x: (-(w[0]/w[1])*x -(b/w[1]))[0], x_decision_hyperplane))\n",
    "print(list(zip(x_decision_hyperplane, y_decision_hyperplane)))\n",
    "predicted = and_network.predict_classes(dataset)\n",
    "print(\"--------------\")\n",
    "print(\"Predictions: \")\n",
    "for ex, t, ac in zip(dataset, targets, predicted):\n",
    "    print(ex, t, ac, ex[0]*w[0]+ex[1]*w[0])\n",
    "\n",
    "plt.plot(x_decision_hyperplane, y_decision_hyperplane, '-.')\n",
    "plt.show()\n",
    "\n",
    "#[-0.3442232]\n",
    "#[(-1, 0.52184135), (0, -0.3442232), (1, -1.2102878), (2, -2.0763524)]\n",
    "#--------------\n",
    "#Predictions: \n",
    "#[0 0] 0 [0] [0.]\n",
    "#[0 1] 0 [1] [0.6737635]\n",
    "#[1 0] 0 [1] [0.6737635]\n",
    "#[1 1] 1 [1] [1.347527]"
   ]
  },
  {
   "cell_type": "markdown",
   "metadata": {},
   "source": [
    "# OR operand network"
   ]
  },
  {
   "cell_type": "code",
   "execution_count": null,
   "metadata": {},
   "outputs": [],
   "source": [
    "dataset = np.array([[0, 0], [0, 1], [1, 0], [1, 1]])\n",
    "targets = np.array([1, 1, 1, 0])\n",
    "\n",
    "print(dataset.shape)\n",
    "print(targets.shape)\n",
    "\n",
    "or_network = Sequential([\n",
    "    Dense(1, input_dim=2),\n",
    "    Activation('sigmoid')\n",
    "])\n",
    "\n",
    "or_network.compile(optimizer=SGD(lr = 0.25),\n",
    "                    loss='mse',\n",
    "                    metrics=['accuracy'])\n",
    "\n",
    "\n",
    "\n",
    "#initial_weights = or_network.get_weights()\n",
    "#with sess.as_default():\n",
    "#    new_weights = [glorot_uniform()(w.shape).eval() for w in initial_weights]\n",
    "#or_network.set_weights(new_weights)\n",
    "\n",
    "or_network.fit(dataset, targets, epochs=100, batch_size=1, verbose=0)"
   ]
  },
  {
   "cell_type": "code",
   "execution_count": null,
   "metadata": {},
   "outputs": [],
   "source": [
    "w, b = and_network.get_weights()\n",
    "print(\"weights: \", w)\n",
    "print(\"bias: \", b)"
   ]
  },
  {
   "cell_type": "code",
   "execution_count": null,
   "metadata": {},
   "outputs": [],
   "source": [
    "plt.xlim(-1, 2)\n",
    "plt.ylim(-1, 2)\n",
    "plt.scatter(list(map(lambda x: x[0], dataset)),\n",
    "            list(map(lambda x: x[1], dataset)),\n",
    "            c=colors,\n",
    "            s=50)\n",
    "x_decision_hyperplane = list(range(-1,3))\n",
    "y_decision_hyperplane = list(map(lambda x: (-(w[0]/w[1])*x -(b/w[1]))[0], x_decision_hyperplane))\n",
    "print(list(zip(x_decision_hyperplane, y_decision_hyperplane)))\n",
    "plt.plot(x_decision_hyperplane, y_decision_hyperplane, '-.')\n",
    "plt.show()"
   ]
  },
  {
   "cell_type": "markdown",
   "metadata": {},
   "source": [
    "# NOT operand network"
   ]
  },
  {
   "cell_type": "code",
   "execution_count": null,
   "metadata": {},
   "outputs": [],
   "source": [
    "dataset = np.array([0, 1])\n",
    "targets = np.array([1, 0])\n",
    "\n",
    "print(dataset.shape)\n",
    "print(targets.shape)\n",
    "\n",
    "not_network = Sequential([\n",
    "    Dense(1, input_dim=1),\n",
    "    Activation('relu')\n",
    "])\n",
    "\n",
    "not_network.compile(optimizer=SGD(lr = 0.5),\n",
    "                    loss='mse',\n",
    "                    metrics=['accuracy'])\n",
    "\n",
    "not_network.fit(dataset, targets, epochs=200, batch_size=1, verbose=0)"
   ]
  },
  {
   "cell_type": "code",
   "execution_count": null,
   "metadata": {},
   "outputs": [],
   "source": [
    "w, b = and_network.get_weights()\n",
    "print(\"weights: \", w)\n",
    "print(\"bias: \", b)"
   ]
  },
  {
   "cell_type": "code",
   "execution_count": null,
   "metadata": {},
   "outputs": [],
   "source": [
    "plt.xlim(-1, 2)\n",
    "plt.ylim(-1, 2)\n",
    "plt.scatter(list(map(lambda x: x[0], dataset)),\n",
    "            list(map(lambda x: x[1], dataset)),\n",
    "            c=colors,\n",
    "            s=50)\n",
    "x_decision_hyperplane = list(range(-1,3))\n",
    "y_decision_hyperplane = list(map(lambda x: (-(w[0]/w[1])*x -(b/w[1]))[0], x_decision_hyperplane))\n",
    "print(list(zip(x_decision_hyperplane, y_decision_hyperplane)))\n",
    "plt.plot(x_decision_hyperplane, y_decision_hyperplane, '-.')\n",
    "plt.show()"
   ]
  },
  {
   "cell_type": "code",
   "execution_count": null,
   "metadata": {},
   "outputs": [],
   "source": [
    "# Training with Iris dataset"
   ]
  },
  {
   "cell_type": "code",
   "execution_count": null,
   "metadata": {
    "scrolled": true
   },
   "outputs": [],
   "source": [
    "dataset = datasets.load_iris()\n",
    "print(dataset.keys())\n",
    "\n",
    "n_features = len(dataset.feature_names)\n",
    "one_hot_labels = keras.utils.to_categorical(dataset.target, num_classes=10)\n",
    "print(n_features)\n",
    "print(dataset.data.shape)\n",
    "print(one_hot_labels.shape)\n",
    "\n",
    "model = Sequential([\n",
    "    Dense(5, input_dim=n_features, activation='relu')\n",
    "])\n",
    "model.add(Dense(10, activation='softmax'))\n",
    "\n",
    "model.compile(optimizer='rmsprop',\n",
    "              loss='binary_crossentropy',\n",
    "              metrics=['accuracy'])\n",
    "\n",
    "# Train the model, iterating on the data in batches of 32 samples\n",
    "print(one_hot_labels)\n",
    "model.fit(dataset.data, one_hot_labels, epochs=100, batch_size=32)"
   ]
  },
  {
   "cell_type": "code",
   "execution_count": null,
   "metadata": {},
   "outputs": [],
   "source": [
    "?model"
   ]
  },
  {
   "cell_type": "code",
   "execution_count": null,
   "metadata": {},
   "outputs": [],
   "source": []
  }
 ],
 "metadata": {
  "kernelspec": {
   "display_name": "Python 3",
   "language": "python",
   "name": "python3"
  },
  "language_info": {
   "codemirror_mode": {
    "name": "ipython",
    "version": 3
   },
   "file_extension": ".py",
   "mimetype": "text/x-python",
   "name": "python",
   "nbconvert_exporter": "python",
   "pygments_lexer": "ipython3",
   "version": "3.6.5"
  }
 },
 "nbformat": 4,
 "nbformat_minor": 2
}
